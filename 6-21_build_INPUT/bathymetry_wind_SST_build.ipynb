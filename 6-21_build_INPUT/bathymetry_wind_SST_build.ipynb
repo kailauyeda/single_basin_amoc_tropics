{
 "cells": [
  {
   "cell_type": "markdown",
   "metadata": {},
   "source": [
    "created 10-26-23\n",
    "#  <mark style=\"background-color: #C0C7Fb\"> <font color ='#3365d3'> Build Idealized Model Bathymetry, Wind, and Sea Surface Temperature. </font></mark>\n",
    "\n",
    "#  <mark style=\"background-color: #f99973\"> <font color ='#f9e5c7'> Table of Contents. </font></mark>\n",
    "1. **[Background](#1)**\n",
    "2. **[Build Bathymetry](#2)** \\\n",
    "    a. [Check with plots](#2a)\n",
    "3. **[Build Wind Forcing](#3)** \\\n",
    "    a. [Wind Equations](#3a) \\\n",
    "    b. [Check with plots](#3b)\n",
    "4. **[Build Sea Surface Temperature](#4)** \\\n",
    "    a. [SST Equations](#4a) \\\n",
    "    b. [Check with plots](#4b)"
   ]
  },
  {
   "cell_type": "markdown",
   "metadata": {},
   "source": [
    "#  <mark style=\"background-color: #f6c0d8\"> <font color ='#f34c9d'> 1. Background. </font></mark>\n",
    "<a name=1></a>\n",
    "\n",
    "We would like to create bathymetry so that we can run an idealized model to study AMOC in the tropics. Since we want to investigate a specific location, we use an idealized model because MOM6 is a global model, not a regional model. We want to release particles in the idealized model to follow water parcels and its vertical and horizontal motion through the tropics. \n",
    "\n",
    "Bathymetry is built using the Neverworld2 package found [here](https://github.com/ocean-eddy-cpt/NeverWorld2/blob/main/docs/NeverWorld2.ipynb). Furhter information about Neverworld2 can be found [here](https://gmd.copernicus.org/articles/15/6567/2022/).\n",
    "\n",
    "In order to use the `topo_builder` package, the `topo_builder.py` [script](https://github.com/kailauyeda/single_basin_amoc_tropics/blob/main/6-21_build_INPUT/topo_builder.py) must be in the same directory as this notebook. \n",
    "\n",
    "Full MOM6 forcing files for the single basin experiment are found in [`6-12_INPUT_figures`](https://github.com/kailauyeda/single_basin_amoc_tropics/blob/main/6-21_build_INPUT/6-12_INPUT_figures.ipynb).\n",
    "\n",
    "## <font color='f34c9d'> Coordinate Explanation. </font>\n",
    "\n",
    "|Data| Center| Corner|\n",
    "|:--| :--:| :--:|\n",
    "|MOM6| h| q|\n",
    "|Neverworld2| c | g|\n",
    "|Domain Size (y,x) | (140,80)|(141,81)|"
   ]
  },
  {
   "cell_type": "code",
   "execution_count": 56,
   "metadata": {},
   "outputs": [],
   "source": [
    "import cartopy\n",
    "import matplotlib.pyplot as plt\n",
    "import numpy as np\n",
    "%matplotlib inline\n",
    "import scipy.interpolate\n",
    "import xarray as xr\n",
    "import netCDF4 as nc4\n",
    "import cmocean.cm as cmo\n",
    "import cmocean\n",
    "import topo_builder # module retrieved from topo_builder.py from neverworld2 code imported to /home/jupyter-kuyeda"
   ]
  },
  {
   "cell_type": "markdown",
   "metadata": {},
   "source": [
    "#  <mark style=\"background-color: #C0C7Fb\"> <font color ='#3365d3'> 2. Build Bathymetry. </font></mark>\n",
    "<a name=2></a>\n",
    "Uses `NS_ridge` command to build ridge in middle of ocean. "
   ]
  },
  {
   "cell_type": "markdown",
   "metadata": {},
   "source": [
    "## <font color='3365d3'> Set Up Neverworld2 Domain. </font>"
   ]
  },
  {
   "cell_type": "code",
   "execution_count": 57,
   "metadata": {},
   "outputs": [],
   "source": [
    "# NeverWorld2 domain\n",
    "NW2_lonW, NW2_lonE = 0, 80\n",
    "NW2_latS, NW2_latN = -70, 70\n",
    "\n",
    "D0 = 4000 # Nominal depth (m)\n",
    "cd = 200 # Depth of coastal shelf (m)\n",
    "drake = 2500 # Depth of Drake sill (m)\n",
    "cw = 5 # Width of coastal shelf (degrees)\n",
    "\n",
    "# Logical domain (grid points)\n",
    "nj, ni = 140, 80"
   ]
  },
  {
   "cell_type": "code",
   "execution_count": 58,
   "metadata": {},
   "outputs": [],
   "source": [
    "for_ridge = topo_builder.topo(nj, ni, dlon=NW2_lonE, dlat=NW2_latN-NW2_latS, lat0=NW2_latS, D=D0)\n",
    "for_ridge.add_NS_coast(NW2_lonW, -40, 90, cw, cd)\n",
    "for_ridge.add_NS_coast(NW2_lonE, -40, 90, cw, cd)\n",
    "for_ridge.add_NS_coast(NW2_lonW, -90, -60, cw, cd)\n",
    "for_ridge.add_NS_coast(NW2_lonE, -90, -60, cw, cd)\n",
    "for_ridge.add_EW_coast(-360, 360, NW2_latS, cw, cd)\n",
    "for_ridge.add_EW_coast(-360, 360, NW2_latN, cw, cd)\n",
    "for_ridge.add_NS_ridge(40, -70, 140, 30, D0/2) # Mid-Atlantic ridge?"
   ]
  },
  {
   "cell_type": "code",
   "execution_count": 59,
   "metadata": {},
   "outputs": [],
   "source": [
    "ds = xr.Dataset()\n",
    "xh = for_ridge.xc\n",
    "yh = for_ridge.yc\n",
    "xq = for_ridge.xg\n",
    "yq = for_ridge.yg"
   ]
  },
  {
   "cell_type": "markdown",
   "metadata": {},
   "source": [
    "## <font color='3365d3'> Prepare netcdf.</font>"
   ]
  },
  {
   "cell_type": "code",
   "execution_count": 60,
   "metadata": {},
   "outputs": [],
   "source": [
    "import netCDF4 as nc4\n",
    "f = nc4.Dataset('/vortex1/jupyter-kuyeda/files_to_delete/topo_file_test4.nc','w',format='NETCDF4')"
   ]
  },
  {
   "cell_type": "code",
   "execution_count": 61,
   "metadata": {},
   "outputs": [
    {
     "name": "stdout",
     "output_type": "stream",
     "text": [
      "<class 'netCDF4._netCDF4.Dataset'>\n",
      "root group (NETCDF4 data model, file format HDF5):\n",
      "    dimensions(sizes): \n",
      "    variables(dimensions): \n",
      "    groups: \n"
     ]
    }
   ],
   "source": [
    "try: ncfile.close()\n",
    "except:pass\n",
    "print(f)"
   ]
  },
  {
   "cell_type": "markdown",
   "metadata": {},
   "source": [
    "## <font color='3365d3'> Create dimensions. </font>"
   ]
  },
  {
   "cell_type": "code",
   "execution_count": 62,
   "metadata": {},
   "outputs": [
    {
     "name": "stdout",
     "output_type": "stream",
     "text": [
      "('xh', <class 'netCDF4._netCDF4.Dimension'>: name = 'xh', size = 80)\n",
      "('yh', <class 'netCDF4._netCDF4.Dimension'>: name = 'yh', size = 140)\n",
      "('xq', <class 'netCDF4._netCDF4.Dimension'>: name = 'xq', size = 81)\n",
      "('yq', <class 'netCDF4._netCDF4.Dimension'>: name = 'yq', size = 141)\n"
     ]
    }
   ],
   "source": [
    "xh_dim = f.createDimension('xh',len(xh))\n",
    "yh_dim = f.createDimension('yh',len(yh))\n",
    "xq_dim = f.createDimension('xq',len(xq))\n",
    "yq_dim = f.createDimension('yq',len(yq))\n",
    "for dim in f.dimensions.items():\n",
    "    print(dim)"
   ]
  },
  {
   "cell_type": "markdown",
   "metadata": {},
   "source": [
    "## <font color='3365d3'> Create attributes.</font>"
   ]
  },
  {
   "cell_type": "code",
   "execution_count": 63,
   "metadata": {},
   "outputs": [
    {
     "name": "stdout",
     "output_type": "stream",
     "text": [
      "Neverworld2 test bathymetry\n"
     ]
    }
   ],
   "source": [
    "f.title='Neverworld2 test bathymetry'\n",
    "print(f.title)"
   ]
  },
  {
   "cell_type": "code",
   "execution_count": 64,
   "metadata": {},
   "outputs": [
    {
     "name": "stdout",
     "output_type": "stream",
     "text": [
      "subtitle\n",
      "<class 'netCDF4._netCDF4.Dataset'>\n",
      "root group (NETCDF4 data model, file format HDF5):\n",
      "    title: Neverworld2 test bathymetry\n",
      "    subtitle: subtitle\n",
      "    dimensions(sizes): xh(80), yh(140), xq(81), yq(141)\n",
      "    variables(dimensions): \n",
      "    groups: \n"
     ]
    }
   ],
   "source": [
    "f.subtitle='subtitle'\n",
    "print(f.subtitle)\n",
    "print(f)"
   ]
  },
  {
   "cell_type": "markdown",
   "metadata": {},
   "source": [
    "## <font color='3365d3'> Create variables. </font>"
   ]
  },
  {
   "cell_type": "code",
   "execution_count": 65,
   "metadata": {},
   "outputs": [],
   "source": [
    "# coordinate variables\n",
    "xh = f.createVariable('xh',np.float32,('xh'))\n",
    "xh.units = 'degrees_east'\n",
    "xh.long_name = 'longitude'"
   ]
  },
  {
   "cell_type": "code",
   "execution_count": 66,
   "metadata": {},
   "outputs": [],
   "source": [
    "yh = f.createVariable('yh',np.float32,('yh'))\n",
    "yh.units = 'degrees_north'\n",
    "yh.long_name = 'latitude'"
   ]
  },
  {
   "cell_type": "code",
   "execution_count": 67,
   "metadata": {},
   "outputs": [],
   "source": [
    "xq = f.createVariable('xq',np.float32,('xq'))\n",
    "xq.units = 'degrees_east'\n",
    "xq.long_name = 'longitude'"
   ]
  },
  {
   "cell_type": "code",
   "execution_count": 68,
   "metadata": {},
   "outputs": [],
   "source": [
    "yq = f.createVariable('yq',np.float32,('yq'))\n",
    "yq.units = 'degrees_north'\n",
    "yq.long_name = 'latitude'"
   ]
  },
  {
   "cell_type": "code",
   "execution_count": 69,
   "metadata": {},
   "outputs": [
    {
     "name": "stdout",
     "output_type": "stream",
     "text": [
      "<class 'netCDF4._netCDF4.Variable'>\n",
      "float32 z(yh, xh)\n",
      "    long_name: field_depth\n",
      "    units: m\n",
      "unlimited dimensions: \n",
      "current shape = (140, 80)\n",
      "filling on, default _FillValue of 9.969209968386869e+36 used\n"
     ]
    }
   ],
   "source": [
    "z = f.createVariable('z',np.float32,('yh','xh'))\n",
    "z.long_name = 'field_depth'\n",
    "z.units = 'm'\n",
    "print(z)"
   ]
  },
  {
   "cell_type": "code",
   "execution_count": 70,
   "metadata": {},
   "outputs": [],
   "source": [
    "z[:,:]=-for_ridge.z"
   ]
  },
  {
   "cell_type": "code",
   "execution_count": 71,
   "metadata": {},
   "outputs": [
    {
     "name": "stdout",
     "output_type": "stream",
     "text": [
      "-- Min/Max values: 0.0 4000.0\n"
     ]
    }
   ],
   "source": [
    "print(\"-- Min/Max values:\",z[:,:].min(),z[:,:].max())"
   ]
  },
  {
   "cell_type": "code",
   "execution_count": 72,
   "metadata": {},
   "outputs": [],
   "source": [
    "xh[:]= for_ridge.xc\n",
    "# print(xh[:])\n",
    "# print(xh.units)"
   ]
  },
  {
   "cell_type": "code",
   "execution_count": 73,
   "metadata": {},
   "outputs": [],
   "source": [
    "yh[:]= for_ridge.yc\n",
    "# print(yh[:])\n",
    "# print(yh.units)"
   ]
  },
  {
   "cell_type": "code",
   "execution_count": 74,
   "metadata": {},
   "outputs": [],
   "source": [
    "xq[:]= for_ridge.xg\n",
    "# print([xq[:]])\n",
    "# print(xq.units)"
   ]
  },
  {
   "cell_type": "code",
   "execution_count": 75,
   "metadata": {},
   "outputs": [],
   "source": [
    "yq[:]= for_ridge.yg\n",
    "# print(yq[:])\n",
    "# print(yq.units)"
   ]
  },
  {
   "cell_type": "code",
   "execution_count": 76,
   "metadata": {},
   "outputs": [
    {
     "name": "stdout",
     "output_type": "stream",
     "text": [
      "<class 'netCDF4._netCDF4.Dataset'>\n",
      "root group (NETCDF4 data model, file format HDF5):\n",
      "    title: Neverworld2 test bathymetry\n",
      "    subtitle: subtitle\n",
      "    dimensions(sizes): xh(80), yh(140), xq(81), yq(141)\n",
      "    variables(dimensions): float32 xh(xh), float32 yh(yh), float32 xq(xq), float32 yq(yq), float32 z(yh, xh)\n",
      "    groups: \n"
     ]
    }
   ],
   "source": [
    "print(f)"
   ]
  },
  {
   "cell_type": "code",
   "execution_count": 77,
   "metadata": {},
   "outputs": [
    {
     "name": "stdout",
     "output_type": "stream",
     "text": [
      "dataset is closed\n"
     ]
    }
   ],
   "source": [
    "f.close(); print('dataset is closed')"
   ]
  },
  {
   "cell_type": "markdown",
   "metadata": {},
   "source": [
    "## <font color='3365d3'> 2a. Check with plots. </font>\n",
    "<a name=2a></a>\n",
    "`actual` is the dataset created that is used in the simulations.\\\n",
    "`sample` is any additional dataset created for demonstration purposes."
   ]
  },
  {
   "cell_type": "code",
   "execution_count": 78,
   "metadata": {},
   "outputs": [],
   "source": [
    "bath_actual = xr.open_dataset('/vortex1/jupyter-kuyeda/t_m_p_wind/6-21_build_INPUT/6-21_INPUT_files/topo_file_test1.nc')\n",
    "bath_sample = xr.open_dataset('/vortex1/jupyter-kuyeda/files_to_delete/topo_file_test4.nc')"
   ]
  },
  {
   "cell_type": "code",
   "execution_count": 201,
   "metadata": {},
   "outputs": [
    {
     "data": {
      "text/plain": [
       "Text(0.5, 0, 'Longitude ($^{\\\\circ}$E)')"
      ]
     },
     "execution_count": 201,
     "metadata": {},
     "output_type": "execute_result"
    },
    {
     "data": {
      "image/png": "[encoded data removed]",
      "text/plain": [
       "<Figure size 640x480 with 2 Axes>"
      ]
     },
     "metadata": {},
     "output_type": "display_data"
    }
   ],
   "source": [
    "fig,ax = plt.subplots(nrows=1,ncols=1)\n",
    "bathmap = cmocean.tools.crop(cmocean.cm.topo,0,2000,2000)\n",
    "bath_sample.z.plot(cmap=bathmap)\n",
    "ax.set_aspect(140/80)\n",
    "ax.set_title('Bathymetry')\n",
    "ax.set_ylabel('Latitude ($^{\\circ}$N)')\n",
    "ax.set_xlabel('Longitude ($^{\\circ}$E)')"
   ]
  },
  {
   "cell_type": "markdown",
   "metadata": {},
   "source": [
    "#  <mark style=\"background-color: #f99973\"> <font color ='#f9e5c7'> 3. Build Wind Forcing.  </font></mark>\n",
    "<a name=3></a>\n",
    "We will build out the `bathymetry` file we just created because the dimensions `xh`, `yh`, `xq`, `yq` are already defined. "
   ]
  },
  {
   "cell_type": "markdown",
   "metadata": {},
   "source": [
    "## <font color=\"f99973\"> Prepare netcdf.</font>"
   ]
  },
  {
   "cell_type": "code",
   "execution_count": 80,
   "metadata": {},
   "outputs": [],
   "source": [
    "import netCDF4 as nc4\n",
    "f1 = nc4.Dataset('/vortex1/jupyter-kuyeda/files_to_delete/wind_sample_nov_10_1.nc','w',format='NETCDF4')"
   ]
  },
  {
   "cell_type": "code",
   "execution_count": 81,
   "metadata": {},
   "outputs": [
    {
     "name": "stdout",
     "output_type": "stream",
     "text": [
      "<class 'netCDF4._netCDF4.Dataset'>\n",
      "root group (NETCDF4 data model, file format HDF5):\n",
      "    dimensions(sizes): \n",
      "    variables(dimensions): \n",
      "    groups: \n"
     ]
    }
   ],
   "source": [
    "try: ncfile.close()\n",
    "except:pass\n",
    "print(f1)"
   ]
  },
  {
   "cell_type": "markdown",
   "metadata": {},
   "source": [
    "## <font color=\"f99973\"> Create dimensions.</font>\n",
    "\n",
    "We want wind to have $(yh,xh)$ coordinates, which correspond to $(yc,xc)$ in Neverworld2. Since these coordinates sit in the middle of the grid cell, we delete the first row (`for_ridge.yg`) and first column (`for_ridge.xg`) since they are located at the corners of the grid cell (not the middle). Otherwise, the first row and first column would extend beyond the $(yh,xh)$ grid. "
   ]
  },
  {
   "cell_type": "code",
   "execution_count": 82,
   "metadata": {},
   "outputs": [
    {
     "data": {
      "text/plain": [
       "array([-69., -68., -67., -66., -65., -64., -63., -62., -61., -60., -59.,\n",
       "       -58., -57., -56., -55., -54., -53., -52., -51., -50., -49., -48.,\n",
       "       -47., -46., -45., -44., -43., -42., -41., -40., -39., -38., -37.,\n",
       "       -36., -35., -34., -33., -32., -31., -30., -29., -28., -27., -26.,\n",
       "       -25., -24., -23., -22., -21., -20., -19., -18., -17., -16., -15.,\n",
       "       -14., -13., -12., -11., -10.,  -9.,  -8.,  -7.,  -6.,  -5.,  -4.,\n",
       "        -3.,  -2.,  -1.,   0.,   1.,   2.,   3.,   4.,   5.,   6.,   7.,\n",
       "         8.,   9.,  10.,  11.,  12.,  13.,  14.,  15.,  16.,  17.,  18.,\n",
       "        19.,  20.,  21.,  22.,  23.,  24.,  25.,  26.,  27.,  28.,  29.,\n",
       "        30.,  31.,  32.,  33.,  34.,  35.,  36.,  37.,  38.,  39.,  40.,\n",
       "        41.,  42.,  43.,  44.,  45.,  46.,  47.,  48.,  49.,  50.,  51.,\n",
       "        52.,  53.,  54.,  55.,  56.,  57.,  58.,  59.,  60.,  61.,  62.,\n",
       "        63.,  64.,  65.,  66.,  67.,  68.,  69.,  70.])"
      ]
     },
     "execution_count": 82,
     "metadata": {},
     "output_type": "execute_result"
    }
   ],
   "source": [
    "np.delete(for_ridge.yg,obj=0,axis=0)"
   ]
  },
  {
   "cell_type": "code",
   "execution_count": 83,
   "metadata": {},
   "outputs": [],
   "source": [
    "xh = for_ridge.xc\n",
    "yh = for_ridge.yc\n",
    "xq = np.delete(for_ridge.xg,obj=0,axis=0)\n",
    "yq = np.delete(for_ridge.yg,obj=0,axis=0)"
   ]
  },
  {
   "cell_type": "code",
   "execution_count": 84,
   "metadata": {},
   "outputs": [
    {
     "name": "stdout",
     "output_type": "stream",
     "text": [
      "('xh', <class 'netCDF4._netCDF4.Dimension'>: name = 'xh', size = 80)\n",
      "('yh', <class 'netCDF4._netCDF4.Dimension'>: name = 'yh', size = 140)\n",
      "('xq', <class 'netCDF4._netCDF4.Dimension'>: name = 'xq', size = 80)\n",
      "('yq', <class 'netCDF4._netCDF4.Dimension'>: name = 'yq', size = 140)\n"
     ]
    }
   ],
   "source": [
    "xh_dim = f1.createDimension('xh',len(xh))\n",
    "yh_dim = f1.createDimension('yh',len(yh))\n",
    "xq_dim = f1.createDimension('xq',len(xq))\n",
    "yq_dim = f1.createDimension('yq',len(yq))\n",
    "for dim in f1.dimensions.items():\n",
    "    print(dim)"
   ]
  },
  {
   "cell_type": "markdown",
   "metadata": {},
   "source": [
    "## <font color=\"f99973\"> Create attributes. </font>"
   ]
  },
  {
   "cell_type": "code",
   "execution_count": 85,
   "metadata": {},
   "outputs": [
    {
     "name": "stdout",
     "output_type": "stream",
     "text": [
      "wind forcing test\n"
     ]
    }
   ],
   "source": [
    "f1.title='wind forcing test'\n",
    "print(f1.title)"
   ]
  },
  {
   "cell_type": "code",
   "execution_count": 86,
   "metadata": {},
   "outputs": [
    {
     "name": "stdout",
     "output_type": "stream",
     "text": [
      "subtitle\n",
      "<class 'netCDF4._netCDF4.Dataset'>\n",
      "root group (NETCDF4 data model, file format HDF5):\n",
      "    title: wind forcing test\n",
      "    subtitle: subtitle\n",
      "    dimensions(sizes): xh(80), yh(140), xq(80), yq(140)\n",
      "    variables(dimensions): \n",
      "    groups: \n"
     ]
    }
   ],
   "source": [
    "f1.subtitle='subtitle'\n",
    "print(f1.subtitle)\n",
    "print(f1)"
   ]
  },
  {
   "cell_type": "markdown",
   "metadata": {},
   "source": [
    "## <font color=\"f99973\"> Create variables. </font>"
   ]
  },
  {
   "cell_type": "code",
   "execution_count": 87,
   "metadata": {},
   "outputs": [],
   "source": [
    "# coordinate variables\n",
    "xh = f1.createVariable('xh',np.float32,('xh'))\n",
    "xh.units = 'degrees_east'\n",
    "xh.long_name = 'longitude'"
   ]
  },
  {
   "cell_type": "code",
   "execution_count": 88,
   "metadata": {},
   "outputs": [],
   "source": [
    "yh = f1.createVariable('yh',np.float32,('yh'))\n",
    "yh.units = 'degrees_north'\n",
    "yh.long_name = 'latitude'"
   ]
  },
  {
   "cell_type": "code",
   "execution_count": 89,
   "metadata": {},
   "outputs": [],
   "source": [
    "xq = f1.createVariable('xq',np.float32,('xq'))\n",
    "xq.units = 'degrees_east'\n",
    "xq.long_name = 'longitude'"
   ]
  },
  {
   "cell_type": "code",
   "execution_count": 90,
   "metadata": {},
   "outputs": [],
   "source": [
    "yq = f1.createVariable('yq',np.float32,('yq'))\n",
    "yq.units = 'degrees_north'\n",
    "yq.long_name = 'latitude'"
   ]
  },
  {
   "cell_type": "code",
   "execution_count": 91,
   "metadata": {},
   "outputs": [
    {
     "name": "stdout",
     "output_type": "stream",
     "text": [
      "<class 'netCDF4._netCDF4.Variable'>\n",
      "float32 taux(yh, xq)\n",
      "    long_name: zonal surface wind forcing\n",
      "    units: Pa\n",
      "unlimited dimensions: \n",
      "current shape = (140, 80)\n",
      "filling on, default _FillValue of 9.969209968386869e+36 used\n"
     ]
    }
   ],
   "source": [
    "taux = f1.createVariable('taux',np.float32,('yh','xq'))\n",
    "taux.long_name = 'zonal surface wind forcing'\n",
    "taux.units = 'Pa'\n",
    "print(taux)"
   ]
  },
  {
   "cell_type": "code",
   "execution_count": 92,
   "metadata": {},
   "outputs": [
    {
     "name": "stdout",
     "output_type": "stream",
     "text": [
      "<class 'netCDF4._netCDF4.Variable'>\n",
      "float32 tauy(yq, xh)\n",
      "    long_name: meridional surface wind forcing\n",
      "    units: Pa\n",
      "unlimited dimensions: \n",
      "current shape = (140, 80)\n",
      "filling on, default _FillValue of 9.969209968386869e+36 used\n"
     ]
    }
   ],
   "source": [
    "tauy = f1.createVariable('tauy',np.float32,('yq','xh'))\n",
    "tauy.long_name = 'meridional surface wind forcing'\n",
    "tauy.units = 'Pa'\n",
    "print(tauy)"
   ]
  },
  {
   "cell_type": "markdown",
   "metadata": {},
   "source": [
    "## <font color=\"f99973\"> Assign variables. </font>"
   ]
  },
  {
   "cell_type": "code",
   "execution_count": 93,
   "metadata": {},
   "outputs": [],
   "source": [
    "xh[:]= for_ridge.xc\n",
    "# print(xh[:])\n",
    "# print(xh.units)"
   ]
  },
  {
   "cell_type": "code",
   "execution_count": 94,
   "metadata": {},
   "outputs": [],
   "source": [
    "yh[:]= for_ridge.yc\n",
    "# print(yh[:])\n",
    "# print(yh.units)"
   ]
  },
  {
   "cell_type": "code",
   "execution_count": 95,
   "metadata": {},
   "outputs": [],
   "source": [
    "xq[:]= np.delete(for_ridge.xg,obj=0,axis=0)\n",
    "# print([xq[:]])\n",
    "# print(xq.shape)"
   ]
  },
  {
   "cell_type": "code",
   "execution_count": 96,
   "metadata": {},
   "outputs": [],
   "source": [
    "yq[:]= np.delete(for_ridge.yg,obj=0,axis=0)\n",
    "# print(yq[:])\n",
    "# print(yq.units)\n",
    "# print(yq.shape)"
   ]
  },
  {
   "cell_type": "markdown",
   "metadata": {},
   "source": [
    "## <font color=\"f99973\"> 3a. Create an array of valeus for $\\tau_x$ and $\\tau_y$. </font>\n",
    "<a name=3a></a>\n",
    "\n",
    "$$ \n",
    "\\begin{align}\n",
    "\\tau_x &= \\tau_{max} \\left[ - cos\\left(\\frac{3 \\pi \\varphi}{140}\\right) + e^{-\\varphi^2 / \\sigma^2} \\right] \\\\\n",
    "\\tau_y &= 0 \\\\\n",
    "\\text{where } &\\tau_{max} = 0.1\\text{   Pa,   } \\varphi =  \\text{ longitude, &   }  \\sigma=10^{\\circ}\n",
    "\\end{align}\n",
    "$$"
   ]
  },
  {
   "cell_type": "code",
   "execution_count": 97,
   "metadata": {},
   "outputs": [
    {
     "data": {
      "text/plain": [
       "(140,)"
      ]
     },
     "execution_count": 97,
     "metadata": {},
     "output_type": "execute_result"
    }
   ],
   "source": [
    "# calculate the taux (yh,xq) (140,81) for every value\n",
    "tau_max = 0.1 # max wind\n",
    "sigma = 10    # 10 deg\n",
    "yh = for_ridge.yc\n",
    "\n",
    "windxh = tau_max*(-np.cos(3*np.pi*yh/140) + np.exp((-yh**2)/sigma**2))\n",
    "windxh.shape"
   ]
  },
  {
   "cell_type": "code",
   "execution_count": 98,
   "metadata": {},
   "outputs": [
    {
     "data": {
      "text/plain": [
       "(140, 80)"
      ]
     },
     "execution_count": 98,
     "metadata": {},
     "output_type": "execute_result"
    }
   ],
   "source": [
    "# manually create a taux (yq,xh) (140,80) size array for taux(yh,xq)\n",
    "\n",
    "# assign every cell in the array to a windyh value \n",
    "    # create a (140,81) numpy array\n",
    "ones = np.ones((140,80))\n",
    "ones.shape\n",
    "\n",
    "    # assign the windyh.shape = (140,) values to every column in the new array\n",
    "taux_np=ones * windxh[:,np.newaxis]\n",
    "\n",
    "    # MOM6 counts cells right to left, so we have xq values that extend beyond the domain. \n",
    "    # We need to remove the xq value on the opposite side of the cell, so we remove the first column of taux_np\n",
    "#taux_np = np.delete(taux_np, obj=0, axis=1)\n",
    "taux_np.shape\n",
    "#taux_np[:,1]"
   ]
  },
  {
   "cell_type": "code",
   "execution_count": 99,
   "metadata": {},
   "outputs": [
    {
     "data": {
      "text/plain": [
       "(140, 80)"
      ]
     },
     "execution_count": 99,
     "metadata": {},
     "output_type": "execute_result"
    }
   ],
   "source": [
    "# manually create a (140,80) size array for tauy\n",
    "\n",
    "tauy_np = np.zeros((140,80))\n",
    "\n",
    "# same as above, MOM6 counts cells top to bottom, so we have yq values that extend beyond the domain.\n",
    "# We need to remove the yq value on the opposite side of the cell, so we remove the last row of tauy_np\n",
    "\n",
    "#tauy_np = np.delete(tauy_np,obj=-1,axis=0)\n",
    "tauy_np.shape"
   ]
  },
  {
   "cell_type": "code",
   "execution_count": 100,
   "metadata": {},
   "outputs": [],
   "source": [
    "taux[:] = taux_np\n",
    "# print(taux[:])\n",
    "# print(taux.units)\n",
    "# print(taux.shape)"
   ]
  },
  {
   "cell_type": "code",
   "execution_count": 101,
   "metadata": {},
   "outputs": [],
   "source": [
    "tauy[:] = tauy_np\n",
    "# print(tauy[:])\n",
    "# print(tauy.units)\n",
    "# print(tauy.shape)"
   ]
  },
  {
   "cell_type": "markdown",
   "metadata": {},
   "source": [
    "## <font color=\"f99973\"> Close out file. </font>"
   ]
  },
  {
   "cell_type": "code",
   "execution_count": 102,
   "metadata": {},
   "outputs": [
    {
     "name": "stdout",
     "output_type": "stream",
     "text": [
      "<class 'netCDF4._netCDF4.Dataset'>\n",
      "root group (NETCDF4 data model, file format HDF5):\n",
      "    title: wind forcing test\n",
      "    subtitle: subtitle\n",
      "    dimensions(sizes): xh(80), yh(140), xq(80), yq(140)\n",
      "    variables(dimensions): float32 xh(xh), float32 yh(yh), float32 xq(xq), float32 yq(yq), float32 taux(yh, xq), float32 tauy(yq, xh)\n",
      "    groups: \n"
     ]
    }
   ],
   "source": [
    "print(f1)"
   ]
  },
  {
   "cell_type": "code",
   "execution_count": 103,
   "metadata": {},
   "outputs": [
    {
     "name": "stdout",
     "output_type": "stream",
     "text": [
      "dataset is closed\n"
     ]
    }
   ],
   "source": [
    "f1.close(); print('dataset is closed')"
   ]
  },
  {
   "cell_type": "markdown",
   "metadata": {},
   "source": [
    "## <font color=\"f99973\"> 3b. Check file with plots.  </font>\n",
    "<a name=3b></a>\n",
    "\n",
    "`actual` is the dataset created that is used in the simulations.\\\n",
    "`sample` is any additional dataset created for demonstration purposes."
   ]
  },
  {
   "cell_type": "code",
   "execution_count": 104,
   "metadata": {},
   "outputs": [],
   "source": [
    "wind_actual = xr.open_dataset('/vortex1/jupyter-kuyeda/t_m_p_wind/6-21_build_INPUT/6-21_INPUT_files/wind_sample_nov_10.nc')\n",
    "wind_sample = xr.open_dataset('/vortex1/jupyter-kuyeda/files_to_delete/wind_sample_nov_10_1.nc')"
   ]
  },
  {
   "cell_type": "code",
   "execution_count": 202,
   "metadata": {},
   "outputs": [
    {
     "data": {
      "text/plain": [
       "Text(0.5, 1.1, 'Wind Forcing')"
      ]
     },
     "execution_count": 202,
     "metadata": {},
     "output_type": "execute_result"
    },
    {
     "data": {
      "image/png": "[encoded data removed]",
      "text/plain": [
       "<Figure size 1000x500 with 5 Axes>"
      ]
     },
     "metadata": {},
     "output_type": "display_data"
    }
   ],
   "source": [
    "fig,ax = plt.subplots(nrows=1,ncols=3,constrained_layout=True,figsize=(10,5))\n",
    "wind_sample.taux.mean('xq').plot(y='yh',color='#f99973',ax=ax[0],marker='o')\n",
    "wind_sample.taux.plot(cmap=cmocean.cm.balance ,ax=ax[1],cbar_kwargs={'label':'$\\\\tau_x$ (Pa)'})\n",
    "wind_sample.tauy.plot(cmap=cmocean.cm.balance,ax=ax[2],cbar_kwargs={'label':'$\\\\tau_y$ (Pa)'})\n",
    "\n",
    "ax[0].set_xlabel('$\\\\tau_x$ (Pa)')\n",
    "ax[0].set_title('$\\\\tau_x (\\\\varphi)$')\n",
    " \n",
    "ax[1].set_aspect(140/80)\n",
    "ax[1].set_xlabel('Longitude $^{\\circ}$E')\n",
    "ax[1].set_title('$\\\\tau_x (\\\\varphi,\\lambda)$')\n",
    "                                                          \n",
    "ax[2].set_aspect(140/80)\n",
    "ax[2].set_xlabel('Longitude $^{\\circ}$E')\n",
    "ax[2].set_title('$\\\\tau_y (\\\\varphi,\\\\lambda)$')                                                          \n",
    "\n",
    "for i in range(0,3):\n",
    "    ax[i].set_ylabel('Latitude ($^{\\circ}$N)')\n",
    "    \n",
    "fig.suptitle('Wind Forcing',y=1.1)"
   ]
  },
  {
   "cell_type": "markdown",
   "metadata": {},
   "source": [
    "#  <mark style=\"background-color: #f6c0d8\"> <font color ='#f34c9d'> 4. Build Temperature Forcing. </font></mark>\n",
    "<a name=4></a>\n",
    "\n",
    "We will use the same method as the wind forcing file."
   ]
  },
  {
   "cell_type": "code",
   "execution_count": 155,
   "metadata": {},
   "outputs": [],
   "source": [
    "import netCDF4 as nc4\n",
    "f2 = nc4.Dataset('/vortex1/jupyter-kuyeda/files_to_delete/temp_sample_nov_10_3.nc','w',format='NETCDF4')"
   ]
  },
  {
   "cell_type": "code",
   "execution_count": 156,
   "metadata": {},
   "outputs": [
    {
     "name": "stdout",
     "output_type": "stream",
     "text": [
      "<class 'netCDF4._netCDF4.Dataset'>\n",
      "root group (NETCDF4 data model, file format HDF5):\n",
      "    dimensions(sizes): \n",
      "    variables(dimensions): \n",
      "    groups: \n"
     ]
    }
   ],
   "source": [
    "try: ncfile.close()\n",
    "except:pass\n",
    "print(f2)"
   ]
  },
  {
   "cell_type": "markdown",
   "metadata": {},
   "source": [
    "## <font color=\"f34c9d\"> Create dimensions. </font>"
   ]
  },
  {
   "cell_type": "code",
   "execution_count": 157,
   "metadata": {},
   "outputs": [
    {
     "data": {
      "text/plain": [
       "array([-69., -68., -67., -66., -65., -64., -63., -62., -61., -60., -59.,\n",
       "       -58., -57., -56., -55., -54., -53., -52., -51., -50., -49., -48.,\n",
       "       -47., -46., -45., -44., -43., -42., -41., -40., -39., -38., -37.,\n",
       "       -36., -35., -34., -33., -32., -31., -30., -29., -28., -27., -26.,\n",
       "       -25., -24., -23., -22., -21., -20., -19., -18., -17., -16., -15.,\n",
       "       -14., -13., -12., -11., -10.,  -9.,  -8.,  -7.,  -6.,  -5.,  -4.,\n",
       "        -3.,  -2.,  -1.,   0.,   1.,   2.,   3.,   4.,   5.,   6.,   7.,\n",
       "         8.,   9.,  10.,  11.,  12.,  13.,  14.,  15.,  16.,  17.,  18.,\n",
       "        19.,  20.,  21.,  22.,  23.,  24.,  25.,  26.,  27.,  28.,  29.,\n",
       "        30.,  31.,  32.,  33.,  34.,  35.,  36.,  37.,  38.,  39.,  40.,\n",
       "        41.,  42.,  43.,  44.,  45.,  46.,  47.,  48.,  49.,  50.,  51.,\n",
       "        52.,  53.,  54.,  55.,  56.,  57.,  58.,  59.,  60.,  61.,  62.,\n",
       "        63.,  64.,  65.,  66.,  67.,  68.,  69.,  70.])"
      ]
     },
     "execution_count": 157,
     "metadata": {},
     "output_type": "execute_result"
    }
   ],
   "source": [
    "np.delete(for_ridge.yg,obj=0,axis=0)"
   ]
  },
  {
   "cell_type": "code",
   "execution_count": 158,
   "metadata": {},
   "outputs": [],
   "source": [
    "xh = for_ridge.xc\n",
    "yh = for_ridge.yc\n",
    "xq = np.delete(for_ridge.xg,obj=0,axis=0)\n",
    "yq = np.delete(for_ridge.yg,obj=0,axis=0)"
   ]
  },
  {
   "cell_type": "code",
   "execution_count": 159,
   "metadata": {},
   "outputs": [
    {
     "name": "stdout",
     "output_type": "stream",
     "text": [
      "('xh', <class 'netCDF4._netCDF4.Dimension'>: name = 'xh', size = 80)\n",
      "('yh', <class 'netCDF4._netCDF4.Dimension'>: name = 'yh', size = 140)\n",
      "('xq', <class 'netCDF4._netCDF4.Dimension'>: name = 'xq', size = 80)\n",
      "('yq', <class 'netCDF4._netCDF4.Dimension'>: name = 'yq', size = 140)\n"
     ]
    }
   ],
   "source": [
    "xh_dim = f2.createDimension('xh',len(xh))\n",
    "yh_dim = f2.createDimension('yh',len(yh))\n",
    "xq_dim = f2.createDimension('xq',len(xq))\n",
    "yq_dim = f2.createDimension('yq',len(yq))\n",
    "for dim in f2.dimensions.items():\n",
    "    print(dim)"
   ]
  },
  {
   "cell_type": "markdown",
   "metadata": {},
   "source": [
    "## <font color=\"f34c9d\"> Create attributes. </font>"
   ]
  },
  {
   "cell_type": "code",
   "execution_count": 160,
   "metadata": {},
   "outputs": [
    {
     "name": "stdout",
     "output_type": "stream",
     "text": [
      "surface temp forcing test\n"
     ]
    }
   ],
   "source": [
    "f2.title='surface temp forcing test'\n",
    "print(f2.title)"
   ]
  },
  {
   "cell_type": "code",
   "execution_count": 161,
   "metadata": {},
   "outputs": [
    {
     "name": "stdout",
     "output_type": "stream",
     "text": [
      "deg_celsius\n",
      "<class 'netCDF4._netCDF4.Dataset'>\n",
      "root group (NETCDF4 data model, file format HDF5):\n",
      "    title: surface temp forcing test\n",
      "    subtitle: deg_celsius\n",
      "    dimensions(sizes): xh(80), yh(140), xq(80), yq(140)\n",
      "    variables(dimensions): \n",
      "    groups: \n"
     ]
    }
   ],
   "source": [
    "f2.subtitle='deg_celsius'\n",
    "print(f2.subtitle)\n",
    "print(f2)"
   ]
  },
  {
   "cell_type": "markdown",
   "metadata": {},
   "source": [
    "## <font color=\"f34c9d\"> Create variables. </font>"
   ]
  },
  {
   "cell_type": "code",
   "execution_count": 162,
   "metadata": {},
   "outputs": [],
   "source": [
    "# coordinate variables\n",
    "xh = f2.createVariable('xh',np.float32,('xh'))\n",
    "xh.units = 'degrees_east'\n",
    "xh.long_name = 'longitude'"
   ]
  },
  {
   "cell_type": "code",
   "execution_count": 163,
   "metadata": {},
   "outputs": [],
   "source": [
    "yh = f2.createVariable('yh',np.float32,('yh'))\n",
    "yh.units = 'degrees_north'\n",
    "yh.long_name = 'latitude'"
   ]
  },
  {
   "cell_type": "code",
   "execution_count": 164,
   "metadata": {},
   "outputs": [],
   "source": [
    "xq = f2.createVariable('xq',np.float32,('xq'))\n",
    "xq.units = 'degrees_east'\n",
    "xq.long_name = 'longitude'"
   ]
  },
  {
   "cell_type": "code",
   "execution_count": 165,
   "metadata": {},
   "outputs": [],
   "source": [
    "yq = f2.createVariable('yq',np.float32,('yq'))\n",
    "yq.units = 'degrees_north'\n",
    "yq.long_name = 'latitude'"
   ]
  },
  {
   "cell_type": "code",
   "execution_count": 166,
   "metadata": {},
   "outputs": [
    {
     "name": "stdout",
     "output_type": "stream",
     "text": [
      "<class 'netCDF4._netCDF4.Variable'>\n",
      "float32 surf_temp(yh, xh)\n",
      "    long_name: surface temperature forcing\n",
      "    units: deg_Celsius\n",
      "unlimited dimensions: \n",
      "current shape = (140, 80)\n",
      "filling on, default _FillValue of 9.969209968386869e+36 used\n"
     ]
    }
   ],
   "source": [
    "temp = f2.createVariable('SST',np.float32,('yh','xh'))\n",
    "temp.long_name = 'surface temperature forcing'\n",
    "temp.units = 'deg_Celsius'\n",
    "print(surf_temp)"
   ]
  },
  {
   "cell_type": "markdown",
   "metadata": {},
   "source": [
    "## <font color=\"f34c9d\"> Assign variables. </font>"
   ]
  },
  {
   "cell_type": "code",
   "execution_count": 167,
   "metadata": {},
   "outputs": [],
   "source": [
    "xh[:]= for_ridge.xc\n",
    "# print(xh[:])\n",
    "# print(xh.units)"
   ]
  },
  {
   "cell_type": "code",
   "execution_count": 168,
   "metadata": {},
   "outputs": [],
   "source": [
    "yh[:]= for_ridge.yc\n",
    "# print(yh[:])\n",
    "# print(yh.units)"
   ]
  },
  {
   "cell_type": "code",
   "execution_count": 169,
   "metadata": {},
   "outputs": [],
   "source": [
    "xq[:]= np.delete(for_ridge.xg,obj=0,axis=0)\n",
    "# print([xq[:]])\n",
    "# print(xq.shape)"
   ]
  },
  {
   "cell_type": "code",
   "execution_count": 170,
   "metadata": {},
   "outputs": [],
   "source": [
    "yq[:]= np.delete(for_ridge.yg,obj=0,axis=0)\n",
    "# print(yq[:])\n",
    "# print(yq.units)\n",
    "# print(yq.shape)"
   ]
  },
  {
   "cell_type": "markdown",
   "metadata": {},
   "source": [
    "## <font color=\"f34c9d\"> 4a. Create an array of values for `SST`. </font>\n",
    "<a name=4a></a>\n",
    "\n",
    "$$\n",
    "\\begin{align}\n",
    "T &= T_{eq}\\left[cos\\left(\\frac{\\pi \\varphi}{140}\\right)^2 + 0.1e^{-\\left(\\frac{\\varphi}{2\\Theta} -1\\right)^2} \\right] \\\\\n",
    "\\text{where } &T_{eq} = 25{^\\circ}C \\text{ , } \\varphi = \\text{ latitude, and } \\Theta = 60^{\\circ}\n",
    "\\end{align}\n",
    "$$\n"
   ]
  },
  {
   "cell_type": "code",
   "execution_count": 171,
   "metadata": {},
   "outputs": [],
   "source": [
    "# calculate the surf_temp (yh,xh) (140,80) for every value\n",
    "yq = np.delete(for_ridge.yg,obj=0,axis=0)\n",
    "Teq = 25   \n",
    "theta = 60\n",
    "\n",
    "#numpy cosine is in radians\n",
    "\n",
    "term_1 = (np.cos(yq*np.pi/140))**2\n",
    "exp = -((yq/(2*theta))-1)**2\n",
    "term_2 = 0.1*np.exp(exp)\n",
    "\n",
    "temp_np = Teq*(term_1 + term_2)"
   ]
  },
  {
   "cell_type": "code",
   "execution_count": 173,
   "metadata": {},
   "outputs": [],
   "source": [
    "# plt.plot(term_1,marker='o')\n",
    "# plt.plot(yh,marker='x')"
   ]
  },
  {
   "cell_type": "code",
   "execution_count": 174,
   "metadata": {},
   "outputs": [
    {
     "data": {
      "text/plain": [
       "(140, 80)"
      ]
     },
     "execution_count": 174,
     "metadata": {},
     "output_type": "execute_result"
    }
   ],
   "source": [
    "# manually create a temp (yh,xh) (140,80) size array for temp(yh,xh)\n",
    "\n",
    "# assign every cell in the array to a surf_temp value \n",
    "    # create a (140,80) numpy array\n",
    "ones = np.ones((140,80))\n",
    "ones.shape\n",
    "\n",
    "# assign the windyh.shape = (140,) values to every column in the new array\n",
    "temp_np=ones * temp_np[:,np.newaxis]\n",
    "\n",
    "temp_np.shape\n"
   ]
  },
  {
   "cell_type": "code",
   "execution_count": 175,
   "metadata": {},
   "outputs": [],
   "source": [
    "temp[:] = temp_np\n",
    "# print(surf_temp[:])\n",
    "# print(surf_temp.units)\n",
    "# print(surf_temp.shape)"
   ]
  },
  {
   "cell_type": "markdown",
   "metadata": {},
   "source": [
    "## <font color=\"f34c9d\"> Close out file. </font>"
   ]
  },
  {
   "cell_type": "code",
   "execution_count": 176,
   "metadata": {},
   "outputs": [
    {
     "name": "stdout",
     "output_type": "stream",
     "text": [
      "<class 'netCDF4._netCDF4.Dataset'>\n",
      "root group (NETCDF4 data model, file format HDF5):\n",
      "    title: surface temp forcing test\n",
      "    subtitle: deg_celsius\n",
      "    dimensions(sizes): xh(80), yh(140), xq(80), yq(140)\n",
      "    variables(dimensions): float32 xh(xh), float32 yh(yh), float32 xq(xq), float32 yq(yq), float32 SST(yh, xh)\n",
      "    groups: \n"
     ]
    }
   ],
   "source": [
    "print(f2)"
   ]
  },
  {
   "cell_type": "code",
   "execution_count": 177,
   "metadata": {},
   "outputs": [
    {
     "name": "stdout",
     "output_type": "stream",
     "text": [
      "dataset is closed\n"
     ]
    }
   ],
   "source": [
    "f2.close(); print('dataset is closed')"
   ]
  },
  {
   "cell_type": "markdown",
   "metadata": {},
   "source": [
    "## <font color=\"f34c9d\"> 4b. Check file with plots. </font>\n",
    "<a name=4b></a>\n",
    "\n",
    "`actual` is the dataset created that is used in the simulations.\\\n",
    "`sample` is any additional dataset created for demonstration purposes."
   ]
  },
  {
   "cell_type": "code",
   "execution_count": 180,
   "metadata": {},
   "outputs": [],
   "source": [
    "temp_actual = xr.open_dataset('/vortex1/jupyter-kuyeda/t_m_p_wind/6-21_build_INPUT/6-21_INPUT_files/11-27_NaN_SST.nc')\n",
    "temp_sample = xr.open_dataset('/vortex1/jupyter-kuyeda/files_to_delete/temp_sample_nov_10_3.nc')"
   ]
  },
  {
   "cell_type": "code",
   "execution_count": 203,
   "metadata": {},
   "outputs": [
    {
     "data": {
      "text/plain": [
       "Text(0.5, 0.98, 'Sea Surface Temperature Forcing')"
      ]
     },
     "execution_count": 203,
     "metadata": {},
     "output_type": "execute_result"
    },
    {
     "data": {
      "image/png": "[encoded data removed]",
      "text/plain": [
       "<Figure size 640x480 with 3 Axes>"
      ]
     },
     "metadata": {},
     "output_type": "display_data"
    }
   ],
   "source": [
    "fig,ax = plt.subplots(nrows=1,ncols=2,constrained_layout=True)\n",
    "temp_sample.SST.mean(dim='xh').plot(ax=ax[0],marker='o',y='yh',color='#f34c9d')\n",
    "temp_sample.SST.plot(ax=ax[1],cmap=cmocean.cm.dense,cbar_kwargs={'label':'SST ($^{\\circ}$C)'})\n",
    "\n",
    "ax[0].set_title('$\\\\theta (\\\\varphi)$')\n",
    "ax[0].set_xlabel('SST ($^{\\circ}$C)')\n",
    "\n",
    "ax[1].set_title('$\\\\theta (\\\\varphi, \\\\lambda)$')\n",
    "ax[1].set_xlabel('Longitude ($^{\\circ}$E)')\n",
    "\n",
    "\n",
    "for i in range(0,2):\n",
    "    ax[i].set_ylabel('Latitude $^{\\circ}$N')\n",
    "\n",
    "fig.suptitle('Sea Surface Temperature Forcing')"
   ]
  },
  {
   "cell_type": "markdown",
   "metadata": {},
   "source": []
  }
 ],
 "metadata": {
  "kernelspec": {
   "display_name": "tropical_project",
   "language": "python",
   "name": "tropical_project"
  },
  "language_info": {
   "codemirror_mode": {
    "name": "ipython",
    "version": 3
   },
   "file_extension": ".py",
   "mimetype": "text/x-python",
   "name": "python",
   "nbconvert_exporter": "python",
   "pygments_lexer": "ipython3",
   "version": "3.9.16"
  }
 },
 "nbformat": 4,
 "nbformat_minor": 2
}
