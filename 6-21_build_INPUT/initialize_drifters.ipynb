{
 "cells": [
  {
   "cell_type": "markdown",
   "id": "aa015a42",
   "metadata": {},
   "source": [
    "created 4-9-24\n",
    "\n",
    "Notebook is a modification of `initialize_drifters.py` from the transition matrix project found [here](https://github.com/cspencerjones/transition_matrix_project/blob/main/double_gyre/initialize_drifters.py).\n",
    "\n",
    "This notebook is used to release drifters where desired using a `drifters.res.nc` file. In this case, one drifter is released at the center of every depth-longitude grid cell at 10$^{\\circ}$S. Longitudes are evenly spaced. Depths are spaced according to a 32-level ALE coordinate grid created in [this INPUT notebook](../t_m_p_wind/6-21_build_INPUT/vgrid_32_layers_build.ipynb).\n"
   ]
  },
  {
   "cell_type": "code",
   "execution_count": 1,
   "id": "7b6bffd5",
   "metadata": {},
   "outputs": [],
   "source": [
    "import xarray as xr\n",
    "import netCDF4 as nc\n",
    "import numpy as np"
   ]
  },
  {
   "cell_type": "code",
   "execution_count": 2,
   "id": "1f90257b",
   "metadata": {},
   "outputs": [],
   "source": [
    "def createParticlesNC(fnam,ids,ines,jnes,start_lats,start_lons,lons,lats,levs,start_ds,days):\n",
    "    f=nc.Dataset(fnam,'w',format='NETCDF3_64BIT_OFFSET',clobber=True)\n",
    "    idim=f.createDimension('i',None)\n",
    "    ivv=f.createVariable('i',np.float64)\n",
    "    iv=f.createVariable('drifter_num',np.int32,('i',))\n",
    "    inev=f.createVariable('ine',np.int32,('i',))\n",
    "    jnev=f.createVariable('jne',np.int32,('i',))\n",
    "    start_latv = f.createVariable('start_lat',np.float64,('i',))\n",
    "    start_lonv = f.createVariable('start_lon',np.float64,('i',))\n",
    "    start_dv = f.createVariable('start_d',np.float64,('i',))\n",
    "    latv=f.createVariable('lat',np.float64,('i',))\n",
    "    lonv=f.createVariable('lon',np.float64,('i',))\n",
    "    levv=f.createVariable('depth',np.float64,('i',))\n",
    "    dv=f.createVariable('time',np.float64,('i',))\n",
    "\n",
    "    f.file_format_major_version=1\n",
    "    f.file_format_minor_version=1\n",
    "    f.time_axis = 0\n",
    "    iv.long_name='identification of the drifter'\n",
    "    iv.units='dimensionless'\n",
    "    iv.packing=0\n",
    "    inev.long_name='i index'\n",
    "    inev.units='none'\n",
    "    inev.packing=0\n",
    "    jnev.long_name='j index'\n",
    "    jnev.units='none'\n",
    "    jnev.packing=0\n",
    "    start_latv.long_name='start latitude'\n",
    "    start_latv.units='degrees_N'\n",
    "    start_lonv.long_name='start_longitude'\n",
    "    start_lonv.units='degrees_E'\n",
    "    start_dv.long_name='start_depth'\n",
    "    start_dv.units='start depth below surface'\n",
    "    lonv.long_name='longitude'\n",
    "    lonv.units='degrees_E'\n",
    "    latv.long_name='latitude'\n",
    "    latv.units='degrees_N'\n",
    "    levv.long_name= 'depth below surface'\n",
    "    levv.units='m'\n",
    "    dv.units='days since 1900-01-01 00:00:00'\n",
    "    ivv[:]=len(ids[:])\n",
    "    iv[:] = ids[:]\n",
    "    inev[:]=ines[:]\n",
    "    jnev[:]=jnes[:]\n",
    "    start_latv = start_lats[:]\n",
    "    start_lonv = start_lons[:]\n",
    "    start_dv = start_ds[:]\n",
    "    lonv[:]=lons[:]\n",
    "    latv[:]=lats[:]\n",
    "    levv[:]=levs[:]\n",
    "    dv[:]=days[:]\n",
    "    f.sync()\n",
    "    f.close()\n",
    "\n",
    "start_lat1D = np.arange(-10.5,-9.5,1)\n",
    "start_lon1D = np.arange(0.5,40.5,1) \n",
    "lon1D = np.arange(0.5,40.5,1)\n",
    "lat1D = np.arange(-10.5,-9.5,1)\n",
    "\n",
    "start_lonmesh,start_latmesh = np.meshgrid(start_lon1D,start_lat1D)\n",
    "lonmesh,latmesh = np.meshgrid(lon1D,lat1D)\n",
    "\n",
    "sizemesh = lonmesh.ravel().size\n",
    "nolevels = 32\n",
    "noparts = sizemesh*nolevels\n",
    "\n",
    "zllevels = np.array([   6.5,   20.5,   36.5,   55. ,   76.5,  101. ,  129. ,  161. ,  197.5,\n",
    "        239.5,  287.5,  342. ,  403.5,  473. ,  551.5,  639.5,  738.5,  849.5,\n",
    "        973. , 1110. , 1261. , 1426.5, 1607. , 1803. , 2014.5, 2240.5, 2480.5,\n",
    "       2733.5, 2997.5, 3270.5, 3550. , 3845.5])\n",
    "    \n",
    "id_list = np.arange(1,noparts+1,1).tolist()\n",
    "ines_list = [0] * noparts\n",
    "jnes_list = [0] * noparts\n",
    "start_lats_list = np.repeat(start_latmesh.ravel().tolist(),nolevels)\n",
    "start_lons_list = np.repeat(start_lonmesh.ravel().tolist(),nolevels)\n",
    "start_ds_list = np.repeat(np.expand_dims(zllevels,0),sizemesh,axis=0).ravel()\n",
    "lons_list = np.repeat(lonmesh.ravel().tolist(),nolevels)\n",
    "lats_list = np.repeat(latmesh.ravel().tolist(),nolevels)\n",
    "levs_list = np.repeat(np.expand_dims(zllevels,0),sizemesh,axis=0).ravel()\n",
    "days_list = [0]* noparts\n",
    "\n",
    "createParticlesNC('drifters.res.nc',ids=id_list,ines=ines_list ,jnes=jnes_list,start_lats = start_lats_list, start_lons = start_lons_list, lons=lons_list,lats=lats_list,levs=levs_list,days=days_list,start_ds=start_ds_list)"
   ]
  },
  {
   "cell_type": "code",
   "execution_count": 3,
   "id": "a19f8a25",
   "metadata": {},
   "outputs": [],
   "source": [
    "#first = xr.open_dataset('/vortex1/jupyter-kuyeda/Drifters/drifters.res.nc')"
   ]
  },
  {
   "cell_type": "code",
   "execution_count": null,
   "id": "3e972642",
   "metadata": {},
   "outputs": [],
   "source": []
  }
 ],
 "metadata": {
  "kernelspec": {
   "display_name": "tropical_project",
   "language": "python",
   "name": "tropical_project"
  },
  "language_info": {
   "codemirror_mode": {
    "name": "ipython",
    "version": 3
   },
   "file_extension": ".py",
   "mimetype": "text/x-python",
   "name": "python",
   "nbconvert_exporter": "python",
   "pygments_lexer": "ipython3",
   "version": "3.9.16"
  }
 },
 "nbformat": 4,
 "nbformat_minor": 5
}
